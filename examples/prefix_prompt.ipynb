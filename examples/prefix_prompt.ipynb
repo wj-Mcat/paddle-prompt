{
 "cells": [
  {
   "cell_type": "markdown",
   "metadata": {},
   "source": [
    "## Prefix Tuning\n",
    "\n",
    "> Implemented paper: [Prefix-Tuning: Optimizing Continuous Prompts for Generation](https://arxiv.org/abs/2101.00190)\n",
    "\n",
    "### Model Structure\n",
    "\n",
    "![](./assets/prefix-tuning-model.png)"
   ]
  },
  {
   "cell_type": "code",
   "execution_count": 5,
   "metadata": {},
   "outputs": [
    {
     "name": "stderr",
     "output_type": "stream",
     "text": [
      "100%|██████████| 67618/67618 [00:06<00:00, 10702.81it/s]\n"
     ]
    }
   ],
   "source": [
    "from paddlenlp.datasets import load_dataset\n",
    "train, dev, test = load_dataset('thucnews', splits=['train', 'dev', 'test'])"
   ]
  },
  {
   "cell_type": "code",
   "execution_count": null,
   "metadata": {},
   "outputs": [],
   "source": []
  }
 ],
 "metadata": {
  "interpreter": {
   "hash": "ef61f8573e38e13c5c6f13e5ad7382a665dff09341ea0520089a391f1bb617cf"
  },
  "kernelspec": {
   "display_name": "Python 3.8.12 ('paddle-latest')",
   "language": "python",
   "name": "python3"
  },
  "language_info": {
   "codemirror_mode": {
    "name": "ipython",
    "version": 3
   },
   "file_extension": ".py",
   "mimetype": "text/x-python",
   "name": "python",
   "nbconvert_exporter": "python",
   "pygments_lexer": "ipython3",
   "version": "3.8.12"
  },
  "orig_nbformat": 4
 },
 "nbformat": 4,
 "nbformat_minor": 2
}
